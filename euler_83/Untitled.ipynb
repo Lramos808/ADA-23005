{
 "cells": [
  {
   "cell_type": "code",
   "execution_count": 4,
   "id": "bcbddb69-6da6-4b9e-a57e-9d8aa4a0ad29",
   "metadata": {},
   "outputs": [
    {
     "name": "stdout",
     "output_type": "stream",
     "text": [
      "[[4445 2697 5115 ... 2758 3748 5870]\n",
      " [1096   20 1318 ... 4187 9353 9377]\n",
      " [9607 7385  521 ... 9515 6385 9230]\n",
      " ...\n",
      " [2265 8192 1763 ... 7456 5128 5294]\n",
      " [2132 8992 8160 ... 5634 1113 5789]\n",
      " [5304 5499  564 ... 2751 3406 7981]]\n"
     ]
    }
   ],
   "source": [
    "import csv\n",
    "import numpy as np\n",
    "\n",
    "with open('matrix.txt', 'r') as f:\n",
    "    matrix = np.array(list(csv.reader(f, delimiter=',')), dtype='int')\n",
    "\n",
    "print(matrix)"
   ]
  },
  {
   "cell_type": "code",
   "execution_count": null,
   "id": "e393dc17-a873-496d-9a2d-5c25799b1c23",
   "metadata": {},
   "outputs": [],
   "source": []
  }
 ],
 "metadata": {
  "kernelspec": {
   "display_name": "Python 3 (ipykernel)",
   "language": "python",
   "name": "python3"
  },
  "language_info": {
   "codemirror_mode": {
    "name": "ipython",
    "version": 3
   },
   "file_extension": ".py",
   "mimetype": "text/x-python",
   "name": "python",
   "nbconvert_exporter": "python",
   "pygments_lexer": "ipython3",
   "version": "3.7.11"
  }
 },
 "nbformat": 4,
 "nbformat_minor": 5
}
