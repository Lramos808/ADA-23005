{
 "cells": [
  {
   "cell_type": "code",
   "execution_count": 1,
   "id": "fd2b8646-c266-41c7-b75e-c437613a0ebe",
   "metadata": {},
   "outputs": [],
   "source": [
    "from car import Car \n",
    "from lookup import Lookup \n",
    "\n",
    "f = open(\"./car_data.csv\", \"r\")\n",
    "file_csv = f.read()\n",
    "f.close()\n",
    "\n",
    "lines = file_csv.split(\"\\n\")\n",
    "lines.pop(0) # this is header info, we don't need\n",
    "lines.pop() # looks like \\n is here which will break our object init\n",
    "\n",
    "lookup = Lookup()\n",
    "\n",
    "for x in lines:\n",
    "    lookup.add_car(Car(x.split(\",\")))\n"
   ]
  },
  {
   "cell_type": "code",
   "execution_count": 2,
   "id": "b265f543-5cff-4b92-9ac6-5259cd5c352f",
   "metadata": {},
   "outputs": [
    {
     "name": "stdout",
     "output_type": "stream",
     "text": [
      "{'Maserati', 'Mercedes-Benz', 'Suzuki', 'Land Rover', 'Dodge', 'Chrysler', 'GMC', 'Cadillac', 'Bentley', 'Scion', 'Bugatti', 'Rolls-Royce', 'Alfa Romeo', 'Toyota', 'Kia', 'Acura', 'Oldsmobile', 'Lexus', 'BMW', 'Infiniti', 'Ferrari', 'Tesla', 'Mitsubishi', 'Buick', 'Porsche', 'McLaren', 'Subaru', 'Nissan', 'FIAT', 'Volkswagen', 'Saab', 'Hyundai', 'Genesis', 'Ford', 'Audi', 'Lamborghini', 'Honda', 'Maybach', 'Lotus', 'HUMMER', 'Mazda', 'Volvo', 'Pontiac', 'Aston Martin', 'Spyker', 'Plymouth', 'Chevrolet', 'Lincoln'}\n"
     ]
    },
    {
     "name": "stdin",
     "output_type": "stream",
     "text": [
      "What is the make of the car you're looking for? Audi\n"
     ]
    },
    {
     "name": "stdout",
     "output_type": "stream",
     "text": [
      "{'90', 'Q5', 'R8', 'allroad', 'SQ5', 'Q7', 'RS 7', 'V8', 'S7', 'Coupe', 'A4 allroad', 'S6', 'S4', 'S3', 'S5', '100', '200', 'Q3', 'RS 6', 'TTS', 'A6', 'A5', 'A8', 'allroad quattro', 'A3', 'RS 4', 'RS 5', 'TT', 'Cabriolet', 'A4', '80', 'S8', 'TT RS', 'A7'}\n"
     ]
    },
    {
     "name": "stdin",
     "output_type": "stream",
     "text": [
      "What is the model of the car you're looking for? 100\n"
     ]
    },
    {
     "name": "stdout",
     "output_type": "stream",
     "text": [
      "{'1992', '1993', '1994'}\n"
     ]
    },
    {
     "name": "stdin",
     "output_type": "stream",
     "text": [
      "Which year are you looking for? 1992\n"
     ]
    },
    {
     "name": "stdout",
     "output_type": "stream",
     "text": [
      "Audi, 100, 1992, regular unleaded, 172, 6, MANUAL, all wheel drive, 4, Luxury, Midsize, Sedan, 21, 16, 3105, 2000\n"
     ]
    },
    {
     "data": {
      "text/plain": [
       "[None]"
      ]
     },
     "execution_count": 2,
     "metadata": {},
     "output_type": "execute_result"
    }
   ],
   "source": [
    "[print(x) for x in lookup.search_for_car()]"
   ]
  },
  {
   "cell_type": "code",
   "execution_count": null,
   "id": "287a22fe-ef47-41f0-a456-e8975447a9b4",
   "metadata": {},
   "outputs": [],
   "source": []
  }
 ],
 "metadata": {
  "kernelspec": {
   "display_name": "Python 3 (ipykernel)",
   "language": "python",
   "name": "python3"
  },
  "language_info": {
   "codemirror_mode": {
    "name": "ipython",
    "version": 3
   },
   "file_extension": ".py",
   "mimetype": "text/x-python",
   "name": "python",
   "nbconvert_exporter": "python",
   "pygments_lexer": "ipython3",
   "version": "3.7.11"
  }
 },
 "nbformat": 4,
 "nbformat_minor": 5
}
