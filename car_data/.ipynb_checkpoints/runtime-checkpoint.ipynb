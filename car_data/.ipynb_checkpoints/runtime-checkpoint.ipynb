{
 "cells": [
  {
   "cell_type": "code",
   "execution_count": 1,
   "id": "fd2b8646-c266-41c7-b75e-c437613a0ebe",
   "metadata": {},
   "outputs": [
    {
     "ename": "IndentationError",
     "evalue": "expected an indented block (lookup.py, line 36)",
     "output_type": "error",
     "traceback": [
      "Traceback \u001b[0;36m(most recent call last)\u001b[0m:\n",
      "  File \u001b[1;32m\"/opt/tljh/user/lib/python3.7/site-packages/IPython/core/interactiveshell.py\"\u001b[0m, line \u001b[1;32m3444\u001b[0m, in \u001b[1;35mrun_code\u001b[0m\n    exec(code_obj, self.user_global_ns, self.user_ns)\n",
      "\u001b[0;36m  File \u001b[0;32m\"/tmp/ipykernel_6294/1204632735.py\"\u001b[0;36m, line \u001b[0;32m2\u001b[0;36m, in \u001b[0;35m<module>\u001b[0;36m\u001b[0m\n\u001b[0;31m    from lookup import Lookup\u001b[0m\n",
      "\u001b[0;36m  File \u001b[0;32m\"/home/jupyter-jtsiklauri/ADA-23005/lookup.py\"\u001b[0;36m, line \u001b[0;32m36\u001b[0m\n\u001b[0;31m    def search_for_car(self):\u001b[0m\n\u001b[0m      ^\u001b[0m\n\u001b[0;31mIndentationError\u001b[0m\u001b[0;31m:\u001b[0m expected an indented block\n"
     ]
    }
   ],
   "source": [
    "from car import Car \n",
    "from lookup import Lookup \n",
    "\n",
    "f = open(\"./data/car_data.csv\", \"r\")\n",
    "file_csv = f.read()\n",
    "f.close()\n",
    "\n",
    "lines = file_csv.split(\"\\n\")\n",
    "lines.pop(0) # this is header info, we don't need\n",
    "lines.pop() # looks like \\n is here which will break our object init\n",
    "\n",
    "database = list()\n",
    "for x in lines:\n",
    "    database.append(Car(x.split(\",\")))\n",
    "    "
   ]
  },
  {
   "cell_type": "code",
   "execution_count": null,
   "id": "b265f543-5cff-4b92-9ac6-5259cd5c352f",
   "metadata": {},
   "outputs": [],
   "source": []
  }
 ],
 "metadata": {
  "kernelspec": {
   "display_name": "Python 3 (ipykernel)",
   "language": "python",
   "name": "python3"
  },
  "language_info": {
   "codemirror_mode": {
    "name": "ipython",
    "version": 3
   },
   "file_extension": ".py",
   "mimetype": "text/x-python",
   "name": "python",
   "nbconvert_exporter": "python",
   "pygments_lexer": "ipython3",
   "version": "3.7.11"
  }
 },
 "nbformat": 4,
 "nbformat_minor": 5
}
