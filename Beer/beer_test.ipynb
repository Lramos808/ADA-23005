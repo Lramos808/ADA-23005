{
 "cells": [
  {
   "cell_type": "code",
   "execution_count": 1,
   "id": "26d88835-b521-4a70-9e4f-47d8daaeae09",
   "metadata": {},
   "outputs": [],
   "source": [
    "import csv\n",
    "from brewery import Breweries\n",
    "breweries = []\n",
    "brewery_ob = []\n",
    "headers = []\n",
    "\n",
    "with open('breweries.csv', 'r') as f:\n",
    "    reader = csv.reader(f)\n",
    "    for row in reader:\n",
    "        breweries.append(row)\n",
    "\n",
    "headers = breweries.pop(0)\n",
    "\n",
    "for brewery in breweries:\n",
    "    brewery[0] = Breweries(brewery)\n",
    "    \n",
    "\n",
    "    \n"
   ]
  },
  {
   "cell_type": "code",
   "execution_count": 10,
   "id": "541195e4-6be5-4920-984a-6b7439104279",
   "metadata": {},
   "outputs": [],
   "source": [
    "\n"
   ]
  },
  {
   "cell_type": "code",
   "execution_count": null,
   "id": "cd418f61-6641-4359-9578-803e76b368ef",
   "metadata": {},
   "outputs": [],
   "source": []
  }
 ],
 "metadata": {
  "kernelspec": {
   "display_name": "Python 3 (ipykernel)",
   "language": "python",
   "name": "python3"
  },
  "language_info": {
   "codemirror_mode": {
    "name": "ipython",
    "version": 3
   },
   "file_extension": ".py",
   "mimetype": "text/x-python",
   "name": "python",
   "nbconvert_exporter": "python",
   "pygments_lexer": "ipython3",
   "version": "3.7.11"
  }
 },
 "nbformat": 4,
 "nbformat_minor": 5
}
